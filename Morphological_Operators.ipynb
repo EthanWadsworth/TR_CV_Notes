{
 "cells": [
  {
   "cell_type": "markdown",
   "metadata": {},
   "source": [
    "# Basic Morphological Operators\n",
    "***\n",
    "Morphological operations are performed on an image, usually in binary form, using a kernel/structuring element of some kind. These kinds of operations are often performed to edit features or remove noise from an image. The two most basic morphological operations are erosion and dilation. \n",
    "\n",
    "Feel free to skip over the sections where the work is done manually and look over the opencv syntax. The manual code is mainly there to help explain the math and work behind the opencv methods."
   ]
  },
  {
   "cell_type": "markdown",
   "metadata": {},
   "source": [
    "#### Setup"
   ]
  },
  {
   "cell_type": "code",
   "execution_count": 2,
   "metadata": {},
   "outputs": [],
   "source": [
    "# notebook imports\n",
    "import cv2\n",
    "import numpy as np\n",
    "import matplotlib.pyplot as plt\n",
    "%matplotlib inline"
   ]
  },
  {
   "cell_type": "markdown",
   "metadata": {},
   "source": [
    "Here are some kernels commonly applied to the following morphological operators. They are all 5 x 5, but can be of different sizes."
   ]
  },
  {
   "cell_type": "code",
   "execution_count": 99,
   "metadata": {},
   "outputs": [
    {
     "data": {
      "text/plain": [
       "<matplotlib.image.AxesImage at 0x126746510>"
      ]
     },
     "execution_count": 99,
     "metadata": {},
     "output_type": "execute_result"
    },
    {
     "data": {
      "image/png": "[encoded data removed]",
      "text/plain": [
       "<Figure size 432x288 with 1 Axes>"
      ]
     },
     "metadata": {
      "needs_background": "light"
     },
     "output_type": "display_data"
    }
   ],
   "source": [
    "# Setting up sample kernels/structuring elements \n",
    "box_kernel = np.full((5,5), 255, dtype='uint8')\n",
    "cross_kernel = np.array([[0, 0, 1, 0, 0],\n",
    "                         [0, 0, 1, 0, 0],\n",
    "                         [1, 1, 1, 1, 1],\n",
    "                         [0, 0, 1, 0, 0],\n",
    "                         [0, 0, 1, 0, 0]], dtype='uint8') * 255\n",
    "ellipse_kernel = np.array([[0, 0, 1, 0, 0],\n",
    "                           [1, 1, 1, 1, 1],\n",
    "                           [1, 1, 1, 1, 1],\n",
    "                           [1, 1, 1, 1, 1],\n",
    "                           [0, 0, 1, 0, 0]], dtype='uint8') * 255\n",
    "\n",
    "# Reading in image and creating binary version\n",
    "writing = cv2.imread('../Image_Data/cursive.png', 0)\n",
    "ret, binary_writing = cv2.threshold(writing, thresh=127, maxval=255, type=cv2.THRESH_BINARY_INV)\n",
    "plt.imshow(binary_writing, cmap='gray')"
   ]
  },
  {
   "cell_type": "markdown",
   "metadata": {},
   "source": [
    "***\n",
    "### Dilation\n",
    "Dilation can be used to close up holes in objects and increase the size of the foreground. It is useful for joining objects together."
   ]
  },
  {
   "cell_type": "markdown",
   "metadata": {},
   "source": [
    "The following method dilates the image passed in manually."
   ]
  },
  {
   "cell_type": "code",
   "execution_count": 104,
   "metadata": {},
   "outputs": [],
   "source": [
    "# expects a binary image of 2 dimensions (grayscale) and a kernel\n",
    "def dilate(img, kernel):\n",
    "    padding = (int)(len(kernel)/2) # Computing number of rows of padding\n",
    "    # Setting up padded image \n",
    "    padded_img = np.zeros((len(img) + padding*2, len(img[0]) + padding*2), dtype='uint8')\n",
    "    padded_img[padding:len(img) + padding, padding:len(img[0]) + padding] = img\n",
    "    dilated_img = padded_img.copy()\n",
    "    # Apply the kernel to every pixel in the image \n",
    "    for row in range(padding, len(img)):\n",
    "        for col in range(padding, len(img[row])):\n",
    "            # If the pixel is white, get the current neighborhood and apply bitwise or \n",
    "            if padded_img[row, col] == 255:\n",
    "                curr_nhbors = dilated_img[row-padding:row+padding+1, col-padding:col+padding+1]\n",
    "                dilated_img[row-padding:row+padding+1, col-padding:col+padding+1] = cv2.bitwise_or(curr_nhbors, kernel)\n",
    "    # return the dilated image without the padding added beforehand\n",
    "    return dilated_img[padding:len(img) + padding, padding:len(img[0]) + padding]"
   ]
  },
  {
   "cell_type": "code",
   "execution_count": 114,
   "metadata": {},
   "outputs": [],
   "source": [
    "dilated_writing = dilate(binary_writing, box_kernel)"
   ]
  },
  {
   "cell_type": "code",
   "execution_count": 115,
   "metadata": {},
   "outputs": [],
   "source": [
    "# opencv syntax for binary dilation\n",
    "dilated_writing_cv = cv2.dilate(binary_writing, box_kernel, iterations=1)"
   ]
  },
  {
   "cell_type": "code",
   "execution_count": 116,
   "metadata": {},
   "outputs": [
    {
     "data": {
      "text/plain": [
       "<matplotlib.image.AxesImage at 0x1274e4e50>"
      ]
     },
     "execution_count": 116,
     "metadata": {},
     "output_type": "execute_result"
    },
    {
     "data": {
      "image/png": "[encoded data removed]",
      "text/plain": [
       "<Figure size 1152x1152 with 3 Axes>"
      ]
     },
     "metadata": {
      "needs_background": "light"
     },
     "output_type": "display_data"
    }
   ],
   "source": [
    "fig, axarr = plt.subplots(1, 3, figsize=(16, 16))\n",
    "axarr[0].set_title('Original Image')\n",
    "axarr[0].imshow(binary_writing, cmap='gray')\n",
    "axarr[1].set_title('Dilation - Manual Code')\n",
    "axarr[1].imshow(dilated_writing, cmap='gray')\n",
    "axarr[2].set_title('Dilation - opencv')\n",
    "axarr[2].imshow(dilated_writing_cv, cmap='gray')"
   ]
  },
  {
   "cell_type": "markdown",
   "metadata": {},
   "source": [
    "The resulting images produced by the handwritten dilate method and the opencv method produced the same results. By using dilation, the loop in t was closed, and the hole in the e shrunk considerably."
   ]
  },
  {
   "cell_type": "markdown",
   "metadata": {},
   "source": [
    "***\n",
    "### Binary Erosion\n",
    "Erosion is useful for removing small patches or stray pixels of noise, and can disconnect connected objects. Erosion shrinks the amount of white/the size of the foreground."
   ]
  },
  {
   "cell_type": "code",
   "execution_count": 225,
   "metadata": {},
   "outputs": [],
   "source": [
    "# expects binary image \n",
    "# Sorry, this algorithm is kinda (very) slow\n",
    "def erode(img, kernel):\n",
    "    padding = (int)(len(kernel)/2) # calculating required number of padding rows\n",
    "    # Creating padded image \n",
    "    padded_img = np.zeros((len(img) + padding*2, len(img[0]) + padding*2), dtype='uint8') \n",
    "    padded_img[padding:len(img) + padding, padding:len(img[0]) + padding] = img\n",
    "    eroded_img = padded_img.copy()\n",
    "    for row in range(padding,len(img)):\n",
    "        for col in range(padding, len(img[row])):\n",
    "            curr_nghbors = padded_img[row-padding:row+padding+1, col-padding:col+padding+1]\n",
    "            # If the current neighborhood contains the kernel, then keep that pixel white\n",
    "            if np.array_equal(kernel, cv2.bitwise_and(curr_nghbors, kernel)):\n",
    "                eroded_img[row, col] = 255;\n",
    "            else:\n",
    "                eroded_img[row, col] = 0;\n",
    "    # return the eroded image without the padding added beforehand\n",
    "    return eroded_img[padding:len(img) + padding, padding:len(img[0]) + padding]"
   ]
  },
  {
   "cell_type": "code",
   "execution_count": 226,
   "metadata": {},
   "outputs": [],
   "source": [
    "eroded_writing = erode(binary_writing, ellipse_kernel)"
   ]
  },
  {
   "cell_type": "code",
   "execution_count": 213,
   "metadata": {},
   "outputs": [],
   "source": [
    "# opencv syntax for binary erosion\n",
    "eroded_writing_cv = cv2.erode(binary_writing, ellipse_kernel, iterations=1)"
   ]
  },
  {
   "cell_type": "code",
   "execution_count": 214,
   "metadata": {},
   "outputs": [
    {
     "data": {
      "text/plain": [
       "<matplotlib.image.AxesImage at 0x12bdcf9d0>"
      ]
     },
     "execution_count": 214,
     "metadata": {},
     "output_type": "execute_result"
    },
    {
     "data": {
      "image/png": "[encoded data removed]",
      "text/plain": [
       "<Figure size 1152x1152 with 3 Axes>"
      ]
     },
     "metadata": {
      "needs_background": "light"
     },
     "output_type": "display_data"
    }
   ],
   "source": [
    "fig, axarr = plt.subplots(1, 3, figsize=(16, 16))\n",
    "axarr[0].set_title('Original Image')\n",
    "axarr[0].imshow(binary_writing, cmap='gray')\n",
    "axarr[1].set_title('Erosion - Manual Code')\n",
    "axarr[1].imshow(eroded_writing, cmap='gray')\n",
    "axarr[2].set_title('Erosion - opencv')\n",
    "axarr[2].imshow(eroded_writing_cv, cmap='gray')"
   ]
  },
  {
   "cell_type": "markdown",
   "metadata": {},
   "source": [
    "The manual erosion method that I wrote works quite well, but there are slightly different results compared to the opencv method. The method is also quite slow as of right now."
   ]
  },
  {
   "cell_type": "markdown",
   "metadata": {},
   "source": [
    "***\n",
    "### Opening\n",
    "Opening is useful for removing salt and pepper noise while maintaining the size of the foreground much more effectively than erosion. This is because opening is simply an erosion followed by a dilation.\n",
    "\n",
    "The code below randomly creates white noise on the binary writing image."
   ]
  },
  {
   "cell_type": "code",
   "execution_count": 216,
   "metadata": {},
   "outputs": [
    {
     "data": {
      "text/plain": [
       "<matplotlib.image.AxesImage at 0x12c035290>"
      ]
     },
     "execution_count": 216,
     "metadata": {},
     "output_type": "execute_result"
    },
    {
     "data": {
      "image/png": "[encoded data removed]",
      "text/plain": [
       "<Figure size 432x288 with 1 Axes>"
      ]
     },
     "metadata": {
      "needs_background": "light"
     },
     "output_type": "display_data"
    }
   ],
   "source": [
    "import random\n",
    "\n",
    "noisy_writing = binary_writing.copy()\n",
    "for i in range(2000):\n",
    "    rand_x = random.randint(0, len(noisy_writing) - 1)\n",
    "    rand_y = random.randint(0, len(noisy_writing[0]) - 1)\n",
    "    noisy_writing[rand_x, rand_y] = 255\n",
    "plt.imshow(noisy_writing,cmap='gray')"
   ]
  },
  {
   "cell_type": "code",
   "execution_count": 217,
   "metadata": {},
   "outputs": [],
   "source": [
    "opened_writing = dilate(erode(noisy_writing, box_kernel), box_kernel)"
   ]
  },
  {
   "cell_type": "code",
   "execution_count": 218,
   "metadata": {},
   "outputs": [],
   "source": [
    "# opencv syntax\n",
    "opened_writing_cv = cv2.morphologyEx(noisy_writing, cv2.MORPH_OPEN, box_kernel)"
   ]
  },
  {
   "cell_type": "code",
   "execution_count": 219,
   "metadata": {},
   "outputs": [
    {
     "data": {
      "text/plain": [
       "<matplotlib.image.AxesImage at 0x126994b10>"
      ]
     },
     "execution_count": 219,
     "metadata": {},
     "output_type": "execute_result"
    },
    {
     "data": {
      "image/png": "[encoded data removed]",
      "text/plain": [
       "<Figure size 1152x1152 with 3 Axes>"
      ]
     },
     "metadata": {
      "needs_background": "light"
     },
     "output_type": "display_data"
    }
   ],
   "source": [
    "fig, axarr = plt.subplots(1, 3, figsize=(16, 16))\n",
    "axarr[0].set_title('Original Image')\n",
    "axarr[0].imshow(binary_writing, cmap='gray')\n",
    "axarr[1].set_title('Opening - Manual Code')\n",
    "axarr[1].imshow(eroded_writing, cmap='gray')\n",
    "axarr[2].set_title('Opening - opencv')\n",
    "axarr[2].imshow(eroded_writing_cv, cmap='gray')"
   ]
  },
  {
   "cell_type": "markdown",
   "metadata": {},
   "source": [
    "Most if not all of the noise is gone from the images, while the original writing is thinned somewhat."
   ]
  },
  {
   "cell_type": "markdown",
   "metadata": {},
   "source": [
    "***\n",
    "## References\n",
    "* Information on many morphological operators: https://homepages.inf.ed.ac.uk/rbf/HIPR2/morops.htm\n",
    "* Python morphological operations docs: https://opencv-python-tutroals.readthedocs.io/en/latest/py_tutorials/py_imgproc/py_morphological_ops/py_morphological_ops.html\n",
    "* dilation and erosion in C++: https://docs.opencv.org/2.4/doc/tutorials/imgproc/erosion_dilatation/erosion_dilatation.html\n",
    "* Erosion Article: https://en.wikipedia.org/wiki/Erosion_(morphology)\n",
    "* Dilation Article: https://en.wikipedia.org/wiki/Dilation_(morphology)\n",
    "* General Morphology: https://en.wikipedia.org/wiki/Mathematical_morphology\n",
    "***"
   ]
  }
 ],
 "metadata": {
  "kernelspec": {
   "display_name": "Python 3",
   "language": "python",
   "name": "python3"
  },
  "language_info": {
   "codemirror_mode": {
    "name": "ipython",
    "version": 3
   },
   "file_extension": ".py",
   "mimetype": "text/x-python",
   "name": "python",
   "nbconvert_exporter": "python",
   "pygments_lexer": "ipython3",
   "version": "3.7.4"
  }
 },
 "nbformat": 4,
 "nbformat_minor": 4
}
